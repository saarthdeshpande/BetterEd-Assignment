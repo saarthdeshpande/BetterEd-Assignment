{
 "cells": [
  {
   "cell_type": "code",
   "execution_count": 5,
   "metadata": {
    "scrolled": false
   },
   "outputs": [
    {
     "name": "stdout",
     "output_type": "stream",
     "text": [
      "['C2', 'C2', 'C2', 'C2', 'C2', 'F3', 'D3', 'D3', 'A3', 'E4b', 'E6b', 'D5', 'D5', 'B4b', 'B3b', 'B6b', 'B5b', 'B4b', 'E3', 'E3b', 'B3', 'B4b', 'B4b', 'B4b', 'C5#', 'B4b', 'B4b', 'B4b', 'B4b', 'B5', 'E3b', 'D3', 'A3', 'B5b', 'B3b', 'B3b', 'C5', 'B4b', 'B4b', 'B4b', 'B4b', 'B4b', 'D3', 'E3b', 'B3b', 'B4b', 'A3', 'C5', 'B4b', 'C5#', 'B4b', 'G4#', 'G4#', 'G4', 'F4#', 'B6b', 'F4#', 'A4', 'F4#', 'F5']\n"
     ]
    }
   ],
   "source": [
    "import numpy as np\n",
    "import wave\n",
    "import struct\n",
    "\n",
    "\n",
    "class NoteDetector:\n",
    "    \n",
    "    def __init__(self, path):\n",
    "        self.frequencies = [65.41, 69.3, 73.42, 77.78, 82.41, 87.31, 92.5, 98.0, 103.8, 110.0, 116.5, 123.5,\n",
    "         130.8, 138.6, 146.8, 155.6, 164.8, 174.6, 185.0, 196.0, 207.7, 220.0, 233.1, 246.9,\n",
    "         261.6, 277.2, 293.7, 311.1, 329.6, 349.2, 370.0, 392.0, 415.3, 440.0, 466.2, 493.9,\n",
    "         523.3, 554.4, 587.3, 622.3, 659.3, 698.5, 740.0, 784.0, 830.6, 880.0, 932.3, 987.8,\n",
    "         1047.0, 1109.0, 1175.0, 1245.0, 1319.0, 1397.0, 1480.0, 1568.0, 1661.0, 1760.0, 1865.0, 1976.0,\n",
    "         2093.00, 2349.32, 2637.02, 2793.83, 3135.96, 3520.00, 3951.07,\n",
    "         4186.01, 4698.63, 5274.04, 5587.65, 6271.93, 7040.00, 7902.13]\n",
    "        \n",
    "        self.notes = ['C2', 'C2#', 'D2', 'E2b', 'E2', 'F2', 'F2#', 'G2', 'G2#', 'A2', 'B2b', 'B2', \n",
    "         'C3', 'C3#', 'D3', 'E3b', 'E3', 'F3', 'F3#', 'G3', 'G3#', 'A3', 'B3b', 'B3', \n",
    "         'C4', 'C4#', 'D4', 'E4b', 'E4', 'F4', 'F4#', 'G4', 'G4#', 'A4', 'B4b', 'B4', \n",
    "         'C5', 'C5#', 'D5', 'E5b', 'E5', 'F5', 'F5#', 'G5', 'G5#', 'A5', 'B5b', 'B5', \n",
    "         'C6', 'C6#', 'D6', 'E6b', 'E6', 'F6', 'F6#', 'G6', 'G6#', 'A6', 'B6b', 'B6',\n",
    "         'C7', 'D7', 'E7', 'F7', 'G7', 'A7', 'B7',\n",
    "         'C8', 'D8', 'E8', 'F8', 'G8', 'A8', 'B8']\n",
    "                \n",
    "        self.output = []\n",
    "        \n",
    "        self.read_file(path)\n",
    "        self.process_file()        \n",
    "        \n",
    "    \n",
    "    def find_nearest(self, value):\n",
    "        idx = (np.abs(self.frequencies - value)).argmin()\n",
    "        return self.notes[idx]\n",
    "    \n",
    "    def read_file(self, path):\n",
    "        sound_file = wave.open(path, 'r')\n",
    "        file_length = sound_file.getnframes()    # number of audio frames\n",
    "\n",
    "        input_sound = np.zeros(file_length)\n",
    "        for i in range(file_length):\n",
    "            data = sound_file.readframes(1)\n",
    "            data = struct.unpack(\"hh\", data)\n",
    "            input_sound[i] = int(data[0])\n",
    "            \n",
    "        input_sound = np.divide(input_sound, float(2**15)) # Normalize data: (-1, 1)\n",
    "        self.input_sound = input_sound\n",
    "        \n",
    "    def process_file(self):\n",
    "        window_size = 2205    # Size of window to be used for detecting silence\n",
    "        sampling_freq = 44100   # Sampling frequency of audio signal\n",
    "        threshold = 600\n",
    "        \n",
    "        sound = np.square(self.input_sound)  # can also use np.abs\n",
    "        output_frequencies = []\n",
    "        dft = []\n",
    "        i = 0\n",
    "        j = 0\n",
    "        k = 0    \n",
    "\n",
    "        while i <= (len(sound) - window_size):\n",
    "            s = 0.0\n",
    "            j = 0\n",
    "            while j <= window_size:\n",
    "                s += sound[i + j]\n",
    "                j += 1\n",
    "            # detecting the silence waves\n",
    "            if s < threshold:\n",
    "                if (i - k) > (window_size * 4):\n",
    "                    # applying fast fourier transform\n",
    "                    dft = np.fft.fft(self.input_sound[k:i])\n",
    "                    dft = np.argsort(dft) # indexes of sorted order\n",
    "                    # find smallest index at (-1, 0, 1)\n",
    "                    if dft[0] > dft[-1] and dft[1] > dft[-1]:\n",
    "                        i_max = dft[-1]\n",
    "                    elif dft[1] > dft[0] and dft[-1] > dft[0]:\n",
    "                        i_max = dft[0]\n",
    "                    else:\n",
    "                        i_max = dft[1]\n",
    "                    # calculating frequency\n",
    "                    output_frequencies.append((i_max * sampling_freq) / (i - k))\n",
    "                    k = i + 1\n",
    "            i += window_size\n",
    "        [self.output.append(self.find_nearest(frequency)) for frequency in output_frequencies]\n",
    "\n",
    "            \n",
    "    def get_output(self):\n",
    "        return self.output\n",
    "    \n",
    "\n",
    "\n",
    "n = NoteDetector('melody-1.wav')\n",
    "print(n.get_output())"
   ]
  },
  {
   "cell_type": "code",
   "execution_count": 6,
   "metadata": {
    "scrolled": false
   },
   "outputs": [
    {
     "name": "stdout",
     "output_type": "stream",
     "text": [
      "['C2', 'C2', 'C2', 'C2', 'C2', 'C2', 'C2', 'C2', 'E3', 'C4', 'F4', 'F4#', 'G4#', 'C3', 'G6#', 'E6b', 'E6b', 'D3', 'E3b', 'B4b', 'C5#', 'C5', 'B4', 'B4', 'C5#', 'C5#', 'G3', 'G3#', 'B3b', 'C4', 'B3b', 'C5#', 'C5', 'B4', 'B4', 'A4', 'B4b', 'C4', 'C4', 'E3b', 'C4', 'G6#', 'G6#', 'G3', 'C4', 'G6#', 'C4', 'C4', 'C3', 'F4', 'F4', 'C3', 'E6b', 'C4', 'C4#', 'C4', 'C4', 'C4#', 'C4', 'E3']\n"
     ]
    }
   ],
   "source": [
    "n2 = NoteDetector('melody-2.wav')\n",
    "print(n2.get_output())"
   ]
  }
 ],
 "metadata": {
  "kernelspec": {
   "display_name": "Python 3",
   "language": "python",
   "name": "python3"
  },
  "language_info": {
   "codemirror_mode": {
    "name": "ipython",
    "version": 3
   },
   "file_extension": ".py",
   "mimetype": "text/x-python",
   "name": "python",
   "nbconvert_exporter": "python",
   "pygments_lexer": "ipython3",
   "version": "3.9.1"
  }
 },
 "nbformat": 4,
 "nbformat_minor": 4
}
